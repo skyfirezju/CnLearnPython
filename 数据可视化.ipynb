{
 "cells": [
  {
   "cell_type": "code",
   "execution_count": 1,
   "id": "38f61732",
   "metadata": {},
   "outputs": [
    {
     "data": {
      "text/html": [
       "<div>\n",
       "<style scoped>\n",
       "    .dataframe tbody tr th:only-of-type {\n",
       "        vertical-align: middle;\n",
       "    }\n",
       "\n",
       "    .dataframe tbody tr th {\n",
       "        vertical-align: top;\n",
       "    }\n",
       "\n",
       "    .dataframe thead th {\n",
       "        text-align: right;\n",
       "    }\n",
       "</style>\n",
       "<table border=\"1\" class=\"dataframe\">\n",
       "  <thead>\n",
       "    <tr style=\"text-align: right;\">\n",
       "      <th></th>\n",
       "      <th>日期</th>\n",
       "      <th>购买用户数</th>\n",
       "      <th>广告费用</th>\n",
       "      <th>促销</th>\n",
       "      <th>渠道数</th>\n",
       "    </tr>\n",
       "  </thead>\n",
       "  <tbody>\n",
       "    <tr>\n",
       "      <th>0</th>\n",
       "      <td>2014/1/1</td>\n",
       "      <td>2496</td>\n",
       "      <td>9.14</td>\n",
       "      <td>否</td>\n",
       "      <td>6</td>\n",
       "    </tr>\n",
       "    <tr>\n",
       "      <th>1</th>\n",
       "      <td>2014/1/2</td>\n",
       "      <td>2513</td>\n",
       "      <td>9.47</td>\n",
       "      <td>否</td>\n",
       "      <td>8</td>\n",
       "    </tr>\n",
       "    <tr>\n",
       "      <th>2</th>\n",
       "      <td>2014/1/3</td>\n",
       "      <td>2228</td>\n",
       "      <td>6.31</td>\n",
       "      <td>是</td>\n",
       "      <td>4</td>\n",
       "    </tr>\n",
       "    <tr>\n",
       "      <th>3</th>\n",
       "      <td>2014/1/4</td>\n",
       "      <td>2336</td>\n",
       "      <td>6.41</td>\n",
       "      <td>否</td>\n",
       "      <td>2</td>\n",
       "    </tr>\n",
       "    <tr>\n",
       "      <th>4</th>\n",
       "      <td>2014/1/5</td>\n",
       "      <td>2508</td>\n",
       "      <td>9.05</td>\n",
       "      <td>是</td>\n",
       "      <td>5</td>\n",
       "    </tr>\n",
       "    <tr>\n",
       "      <th>...</th>\n",
       "      <td>...</td>\n",
       "      <td>...</td>\n",
       "      <td>...</td>\n",
       "      <td>...</td>\n",
       "      <td>...</td>\n",
       "    </tr>\n",
       "    <tr>\n",
       "      <th>153</th>\n",
       "      <td>2014/6/26</td>\n",
       "      <td>2492</td>\n",
       "      <td>8.72</td>\n",
       "      <td>是</td>\n",
       "      <td>2</td>\n",
       "    </tr>\n",
       "    <tr>\n",
       "      <th>154</th>\n",
       "      <td>2014/6/27</td>\n",
       "      <td>2712</td>\n",
       "      <td>10.80</td>\n",
       "      <td>否</td>\n",
       "      <td>5</td>\n",
       "    </tr>\n",
       "    <tr>\n",
       "      <th>155</th>\n",
       "      <td>2014/6/28</td>\n",
       "      <td>2369</td>\n",
       "      <td>7.35</td>\n",
       "      <td>否</td>\n",
       "      <td>5</td>\n",
       "    </tr>\n",
       "    <tr>\n",
       "      <th>156</th>\n",
       "      <td>2014/6/29</td>\n",
       "      <td>2380</td>\n",
       "      <td>7.19</td>\n",
       "      <td>是</td>\n",
       "      <td>4</td>\n",
       "    </tr>\n",
       "    <tr>\n",
       "      <th>157</th>\n",
       "      <td>2014/6/30</td>\n",
       "      <td>2377</td>\n",
       "      <td>7.06</td>\n",
       "      <td>是</td>\n",
       "      <td>2</td>\n",
       "    </tr>\n",
       "  </tbody>\n",
       "</table>\n",
       "<p>158 rows × 5 columns</p>\n",
       "</div>"
      ],
      "text/plain": [
       "            日期  购买用户数   广告费用 促销  渠道数\n",
       "0     2014/1/1   2496   9.14  否    6\n",
       "1     2014/1/2   2513   9.47  否    8\n",
       "2     2014/1/3   2228   6.31  是    4\n",
       "3     2014/1/4   2336   6.41  否    2\n",
       "4     2014/1/5   2508   9.05  是    5\n",
       "..         ...    ...    ... ..  ...\n",
       "153  2014/6/26   2492   8.72  是    2\n",
       "154  2014/6/27   2712  10.80  否    5\n",
       "155  2014/6/28   2369   7.35  否    5\n",
       "156  2014/6/29   2380   7.19  是    4\n",
       "157  2014/6/30   2377   7.06  是    2\n",
       "\n",
       "[158 rows x 5 columns]"
      ]
     },
     "execution_count": 1,
     "metadata": {},
     "output_type": "execute_result"
    }
   ],
   "source": [
    "import pandas\n",
    "data = pandas.read_csv(\n",
    "    '/Users/xiefei/Documents/Workspace/CnLearnPython/PDABook/第六章/6.2 散点图/散点图.csv',\n",
    "    engine = 'python', encoding = 'utf8'\n",
    ")\n",
    "data"
   ]
  },
  {
   "cell_type": "code",
   "execution_count": 2,
   "id": "b5ec0c1d",
   "metadata": {},
   "outputs": [
    {
     "data": {
      "text/plain": [
       "<matplotlib.collections.PathCollection at 0x120a387d0>"
      ]
     },
     "execution_count": 2,
     "metadata": {},
     "output_type": "execute_result"
    },
    {
     "data": {
      "image/png": "[encoded data removed]",
      "text/plain": [
       "<Figure size 432x288 with 1 Axes>"
      ]
     },
     "metadata": {
      "needs_background": "light"
     },
     "output_type": "display_data"
    }
   ],
   "source": [
    "import matplotlib\n",
    "import matplotlib.pyplot as plt\n",
    "plt.scatter(data['广告费用'], data['购买用户数'])"
   ]
  },
  {
   "cell_type": "code",
   "execution_count": 8,
   "id": "5600dfba",
   "metadata": {},
   "outputs": [
    {
     "name": "stderr",
     "output_type": "stream",
     "text": [
      "*c* argument looks like a single numeric RGB or RGBA sequence, which should be avoided as value-mapping will have precedence in case its length matches with *x* & *y*.  Please use the *color* keyword-argument or provide a 2D array with a single row if you intend to specify the same RGB or RGBA value for all points.\n"
     ]
    },
    {
     "data": {
      "text/plain": [
       "<matplotlib.collections.PathCollection at 0x120d9b9d0>"
      ]
     },
     "execution_count": 8,
     "metadata": {},
     "output_type": "execute_result"
    },
    {
     "data": {
      "image/png": "[encoded data removed]",
      "text/plain": [
       "<Figure size 432x288 with 1 Axes>"
      ]
     },
     "metadata": {
      "needs_background": "light"
     },
     "output_type": "display_data"
    }
   ],
   "source": [
    "mainColor = (91/ 255, 155/255, 213/ 255, 1)\n",
    "plt.scatter(\n",
    "    data['广告费用'], \n",
    "    data['购买用户数'],\n",
    "    c = mainColor\n",
    ")"
   ]
  },
  {
   "cell_type": "code",
   "execution_count": 11,
   "id": "cc5a7bfa",
   "metadata": {},
   "outputs": [
    {
     "name": "stderr",
     "output_type": "stream",
     "text": [
      "*c* argument looks like a single numeric RGB or RGBA sequence, which should be avoided as value-mapping will have precedence in case its length matches with *x* & *y*.  Please use the *color* keyword-argument or provide a 2D array with a single row if you intend to specify the same RGB or RGBA value for all points.\n"
     ]
    },
    {
     "data": {
      "text/plain": [
       "<matplotlib.collections.PathCollection at 0x121646890>"
      ]
     },
     "execution_count": 11,
     "metadata": {},
     "output_type": "execute_result"
    },
    {
     "data": {
      "image/png": "[encoded data removed]",
      "text/plain": [
       "<Figure size 432x288 with 1 Axes>"
      ]
     },
     "metadata": {
      "needs_background": "dark"
     },
     "output_type": "display_data"
    }
   ],
   "source": [
    "font = matplotlib.font_manager.FontProperties(\n",
    "    fname = '/Users/xiefei/Documents/Workspace/CnLearnPython/PDABook/SourceHanSansCN-Light.otf',\n",
    "    size = 15\n",
    ")\n",
    "\n",
    "plt.xlabel(\n",
    "    '广告费用', \n",
    "    color = mainColor,\n",
    "    fontproperties = font\n",
    ")\n",
    "plt.ylabel(\n",
    "    '购买用户数', \n",
    "    color = mainColor,\n",
    "    fontproperties = font\n",
    ")\n",
    "# 设置坐标轴的刻度样式\n",
    "plt.xticks(\n",
    "    color = mainColor,\n",
    "    fontproperties = font\n",
    ")\n",
    "plt.yticks(\n",
    "    color = mainColor,\n",
    "    fontproperties = font\n",
    ")\n",
    "plt.scatter(\n",
    "    data['广告费用'], \n",
    "    data['购买用户数'],\n",
    "    c = mainColor\n",
    ")\n"
   ]
  },
  {
   "cell_type": "code",
   "execution_count": 17,
   "id": "bcc94053",
   "metadata": {},
   "outputs": [
    {
     "name": "stderr",
     "output_type": "stream",
     "text": [
      "*c* argument looks like a single numeric RGB or RGBA sequence, which should be avoided as value-mapping will have precedence in case its length matches with *x* & *y*.  Please use the *color* keyword-argument or provide a 2D array with a single row if you intend to specify the same RGB or RGBA value for all points.\n",
      "*c* argument looks like a single numeric RGB or RGBA sequence, which should be avoided as value-mapping will have precedence in case its length matches with *x* & *y*.  Please use the *color* keyword-argument or provide a 2D array with a single row if you intend to specify the same RGB or RGBA value for all points.\n"
     ]
    },
    {
     "data": {
      "image/png": "[encoded data removed]",
      "text/plain": [
       "<Figure size 432x288 with 1 Axes>"
      ]
     },
     "metadata": {
      "needs_background": "dark"
     },
     "output_type": "display_data"
    }
   ],
   "source": [
    "plt.figure()\n",
    "# 粉色做为促销点的颜色\n",
    "pinkColor = (255/255, 0/255, 102/255, 1)\n",
    "# 蓝色作为不促销点的颜色\n",
    "blueColor = (91/255, 155/255, 213/255, 1)\n",
    "\n",
    "plt.scatter(\n",
    "    data[data['促销'] == '是']['广告费用'],\n",
    "    data[data['促销'] == '是']['购买用户数'],\n",
    "    c = pinkColor,\n",
    "    marker = 'o',\n",
    "    s = data[data['促销'] == '是']['渠道数']*80\n",
    ")\n",
    "\n",
    "plt.scatter(\n",
    "    data[data['促销'] == '否']['广告费用'],\n",
    "    data[data['促销'] == '否']['购买用户数'],\n",
    "    c = blueColor,\n",
    "    marker = 'x',\n",
    "    s = data[data['促销'] == '否']['渠道数']*80\n",
    ")\n",
    "\n",
    "plt.xlabel(\n",
    "    '广告费用', \n",
    "    color = mainColor,\n",
    "    fontproperties = font\n",
    ")\n",
    "plt.ylabel(\n",
    "    '购买用户数', \n",
    "    color = mainColor,\n",
    "    fontproperties = font\n",
    ")\n",
    "# 设置坐标轴的刻度样式\n",
    "plt.xticks(\n",
    "    color = mainColor,\n",
    "    fontproperties = font\n",
    ")\n",
    "plt.yticks(\n",
    "    color = mainColor,\n",
    "    fontproperties = font\n",
    ")\n",
    "# 增加图例\n",
    "legend = plt.legend(labels = ['促销', '不促销'], prop = font)"
   ]
  },
  {
   "cell_type": "code",
   "execution_count": 18,
   "id": "2a1aa52f",
   "metadata": {},
   "outputs": [],
   "source": [
    "import pandas\n",
    "data = pandas.read_csv(\n",
    "    '/Users/xiefei/Documents/Workspace/CnLearnPython/PDABook/第五章/5.8 矩阵分析/矩阵分析.csv',\n",
    "    engine = 'python', encoding = 'utf8'\n",
    ")\n",
    "costAgg = data.groupby(\n",
    "    by = '省份', \n",
    "    as_index = False\n",
    ")['月消费（元）'].agg('mean')\n",
    "dataAgg = data.groupby(\n",
    "    by = '省份', \n",
    "    as_index = False\n",
    ")['月流量（MB）'].agg('mean')\n",
    "aggData = costAgg.merge(dataAgg)"
   ]
  },
  {
   "cell_type": "code",
   "execution_count": 31,
   "id": "079036fb",
   "metadata": {},
   "outputs": [],
   "source": [
    "labelFont = matplotlib.font_manager.FontProperties(\n",
    "    fname = '/Users/xiefei/Documents/Workspace/CnLearnPython/PDABook/SourceHanSansCN-Light.otf',\n",
    "    size = 15\n",
    ")\n",
    "mainColor = (91/255, 155/255, 213/255, 1)\n",
    "fontColor = (110/255, 110/255, 110/255, 1)"
   ]
  },
  {
   "cell_type": "code",
   "execution_count": 32,
   "id": "410716f2",
   "metadata": {},
   "outputs": [
    {
     "data": {
      "image/png": "[encoded data removed]",
      "text/plain": [
       "<Figure size 432x288 with 1 Axes>"
      ]
     },
     "metadata": {},
     "output_type": "display_data"
    }
   ],
   "source": [
    "# 新建窗口\n",
    "fig = plt.figure\n",
    "# 预留1% 边缘空白\n",
    "gap = 0.01\n",
    "# 计算x轴范围\n",
    "xMin = aggData['月消费（元）'].min()*(1-gap)\n",
    "xMax = aggData['月消费（元）'].max()*(1+gap)\n",
    "# 计算y轴范围\n",
    "yMin = aggData['月流量（MB）'].min()*(1-gap)\n",
    "yMax = aggData['月流量（MB）'].max()*(1+gap)\n",
    "\n",
    "# xy 坐标范围\n",
    "plt.xlim(xMin, xMax)\n",
    "plt.ylim(yMin, yMax)\n",
    "\n",
    "plt.xticks([])\n",
    "plt.yticks([])\n",
    "\n",
    "plt.scatter(\n",
    "    aggData['月消费（元）'],\n",
    "    aggData['月流量（MB）'],\n",
    "    s = 300,\n",
    "    marker = 'o',\n",
    "    color = mainColor\n",
    ")\n",
    "\n",
    "# 坐标轴标签\n",
    "plt.xlabel(\n",
    "    '人均月消费（元）',\n",
    "    color = fontColor,\n",
    "    fontproperties = labelFont\n",
    ")\n",
    "\n",
    "plt.ylabel(\n",
    "    '人均流量（MB）',\n",
    "    color = fontColor,\n",
    "    fontproperties = labelFont\n",
    ")\n",
    "\n",
    "# 绘制均值线\n",
    "plt.vlines(\n",
    "    x = data['月消费（元）'].mean(),\n",
    "    ymin = yMin,\n",
    "    ymax = yMax,\n",
    "    linewidth = 1,\n",
    "    color = mainColor\n",
    ")\n",
    "\n",
    "plt.hlines(\n",
    "    y = data['月流量（MB）'].mean(),\n",
    "    xmin = xMin,\n",
    "    xmax = xMax,\n",
    "    linewidth = 1,\n",
    "    color = mainColor\n",
    ")\n",
    "\n",
    "#  4个象限标记\n",
    "plt.text(\n",
    "    xMax - 0.5,\n",
    "    yMax - 5,\n",
    "    ' I ',\n",
    "    color = fontColor,\n",
    "    fontsize = 20\n",
    ")\n",
    "\n",
    "plt.text(\n",
    "    xMin,\n",
    "    yMax - 5,\n",
    "    ' II ',\n",
    "    color = fontColor,\n",
    "    fontsize = 20\n",
    ")\n",
    "\n",
    "plt.text(\n",
    "    xMin,\n",
    "    yMin,\n",
    "    ' III ',\n",
    "    color = fontColor,\n",
    "    fontsize = 20\n",
    ")\n",
    "\n",
    "plt.text(\n",
    "    xMax - 0.6,\n",
    "    yMin,\n",
    "    ' IV ',\n",
    "    color = fontColor,\n",
    "    fontsize = 20\n",
    ")\n",
    "\n",
    "for i, r in aggData.iterrows():\n",
    "    plt.text(\n",
    "        r['月消费（元）'] + 0.25,\n",
    "        r['月流量（MB）'] -1,\n",
    "        r['省份'],\n",
    "        color = fontColor,\n",
    "        fontproperties = font\n",
    "    )"
   ]
  },
  {
   "cell_type": "code",
   "execution_count": 34,
   "id": "01febfb4",
   "metadata": {},
   "outputs": [
    {
     "data": {
      "text/html": [
       "<div>\n",
       "<style scoped>\n",
       "    .dataframe tbody tr th:only-of-type {\n",
       "        vertical-align: middle;\n",
       "    }\n",
       "\n",
       "    .dataframe tbody tr th {\n",
       "        vertical-align: top;\n",
       "    }\n",
       "\n",
       "    .dataframe thead th {\n",
       "        text-align: right;\n",
       "    }\n",
       "</style>\n",
       "<table border=\"1\" class=\"dataframe\">\n",
       "  <thead>\n",
       "    <tr style=\"text-align: right;\">\n",
       "      <th></th>\n",
       "      <th>id</th>\n",
       "      <th>reg_date</th>\n",
       "      <th>id_num</th>\n",
       "      <th>gender</th>\n",
       "      <th>birthday</th>\n",
       "    </tr>\n",
       "  </thead>\n",
       "  <tbody>\n",
       "    <tr>\n",
       "      <th>0</th>\n",
       "      <td>109899</td>\n",
       "      <td>2011-02-01</td>\n",
       "      <td>35042519920219007J</td>\n",
       "      <td>男</td>\n",
       "      <td>1992/2/19</td>\n",
       "    </tr>\n",
       "    <tr>\n",
       "      <th>1</th>\n",
       "      <td>109903</td>\n",
       "      <td>2011-02-01</td>\n",
       "      <td>43048119891223411D</td>\n",
       "      <td>男</td>\n",
       "      <td>1989/12/23</td>\n",
       "    </tr>\n",
       "    <tr>\n",
       "      <th>2</th>\n",
       "      <td>109904</td>\n",
       "      <td>2011-02-01</td>\n",
       "      <td>42010219880201313H</td>\n",
       "      <td>男</td>\n",
       "      <td>1988/2/1</td>\n",
       "    </tr>\n",
       "    <tr>\n",
       "      <th>3</th>\n",
       "      <td>109905</td>\n",
       "      <td>2011-02-01</td>\n",
       "      <td>44030619840213001E</td>\n",
       "      <td>男</td>\n",
       "      <td>1984/2/13</td>\n",
       "    </tr>\n",
       "    <tr>\n",
       "      <th>4</th>\n",
       "      <td>109906</td>\n",
       "      <td>2011-02-01</td>\n",
       "      <td>43070219870502103H</td>\n",
       "      <td>男</td>\n",
       "      <td>1987/5/2</td>\n",
       "    </tr>\n",
       "    <tr>\n",
       "      <th>...</th>\n",
       "      <td>...</td>\n",
       "      <td>...</td>\n",
       "      <td>...</td>\n",
       "      <td>...</td>\n",
       "      <td>...</td>\n",
       "    </tr>\n",
       "    <tr>\n",
       "      <th>49945</th>\n",
       "      <td>194092</td>\n",
       "      <td>2011-07-31</td>\n",
       "      <td>51132219871005915I</td>\n",
       "      <td>男</td>\n",
       "      <td>1987/10/5</td>\n",
       "    </tr>\n",
       "    <tr>\n",
       "      <th>49946</th>\n",
       "      <td>194093</td>\n",
       "      <td>2011-07-31</td>\n",
       "      <td>37010519860715113F</td>\n",
       "      <td>男</td>\n",
       "      <td>1986/7/15</td>\n",
       "    </tr>\n",
       "    <tr>\n",
       "      <th>49947</th>\n",
       "      <td>194094</td>\n",
       "      <td>2011-07-31</td>\n",
       "      <td>35018219851102163C</td>\n",
       "      <td>男</td>\n",
       "      <td>1985/11/2</td>\n",
       "    </tr>\n",
       "    <tr>\n",
       "      <th>49948</th>\n",
       "      <td>194096</td>\n",
       "      <td>2011-07-31</td>\n",
       "      <td>41032319880713051E</td>\n",
       "      <td>男</td>\n",
       "      <td>1988/7/13</td>\n",
       "    </tr>\n",
       "    <tr>\n",
       "      <th>49949</th>\n",
       "      <td>194097</td>\n",
       "      <td>2011-07-31</td>\n",
       "      <td>35082319851211301D</td>\n",
       "      <td>男</td>\n",
       "      <td>1985/12/11</td>\n",
       "    </tr>\n",
       "  </tbody>\n",
       "</table>\n",
       "<p>49950 rows × 5 columns</p>\n",
       "</div>"
      ],
      "text/plain": [
       "           id    reg_date              id_num gender    birthday\n",
       "0      109899  2011-02-01  35042519920219007J      男   1992/2/19\n",
       "1      109903  2011-02-01  43048119891223411D      男  1989/12/23\n",
       "2      109904  2011-02-01  42010219880201313H      男    1988/2/1\n",
       "3      109905  2011-02-01  44030619840213001E      男   1984/2/13\n",
       "4      109906  2011-02-01  43070219870502103H      男    1987/5/2\n",
       "...       ...         ...                 ...    ...         ...\n",
       "49945  194092  2011-07-31  51132219871005915I      男   1987/10/5\n",
       "49946  194093  2011-07-31  37010519860715113F      男   1986/7/15\n",
       "49947  194094  2011-07-31  35018219851102163C      男   1985/11/2\n",
       "49948  194096  2011-07-31  41032319880713051E      男   1988/7/13\n",
       "49949  194097  2011-07-31  35082319851211301D      男  1985/12/11\n",
       "\n",
       "[49950 rows x 5 columns]"
      ]
     },
     "execution_count": 34,
     "metadata": {},
     "output_type": "execute_result"
    }
   ],
   "source": [
    "import pandas\n",
    "data = pandas.read_csv(\n",
    "    '/Users/xiefei/Documents/Workspace/CnLearnPython/PDABook/第六章/6.4 折线图/折线图.csv',\n",
    "    engine = 'python', encoding = 'utf8'\n",
    ")\n",
    "data"
   ]
  },
  {
   "cell_type": "code",
   "execution_count": 35,
   "id": "d6aa9d82",
   "metadata": {},
   "outputs": [],
   "source": [
    "data['reg_date'] = pandas.to_datetime(\n",
    "    data['reg_date']\n",
    ")"
   ]
  },
  {
   "cell_type": "code",
   "execution_count": 36,
   "id": "7c3e6b71",
   "metadata": {},
   "outputs": [],
   "source": [
    "ga = data.groupby(\n",
    "    by = ['reg_date'],\n",
    "    as_index = False\n",
    ")['id'].agg('count')\n",
    "ga.columns = ['注册日期', '注册用户数']"
   ]
  },
  {
   "cell_type": "code",
   "execution_count": 44,
   "id": "5cc30b02",
   "metadata": {},
   "outputs": [
    {
     "data": {
      "text/plain": [
       "[<matplotlib.lines.Line2D at 0x122136ad0>]"
      ]
     },
     "execution_count": 44,
     "metadata": {},
     "output_type": "execute_result"
    },
    {
     "data": {
      "image/png": "[encoded data removed]",
      "text/plain": [
       "<Figure size 432x288 with 1 Axes>"
      ]
     },
     "metadata": {
      "needs_background": "dark"
     },
     "output_type": "display_data"
    }
   ],
   "source": [
    "import matplotlib\n",
    "from matplotlib import pyplot as plt\n",
    "\n",
    "mainColor = (91/255, 155/255, 213/255, 1)\n",
    "font = matplotlib.font_manager.FontProperties(\n",
    "    fname = '/Users/xiefei/Documents/Workspace/CnLearnPython/PDABook/SourceHanSansCN-Light.otf',\n",
    "    size = 10\n",
    ")\n",
    "labelFont = matplotlib.font_manager.FontProperties(\n",
    "    fname = '/Users/xiefei/Documents/Workspace/CnLearnPython/PDABook/SourceHanSansCN-Light.otf',\n",
    "    size = 10\n",
    ")\n",
    "\n",
    "# y轴的显示范围\n",
    "plt.ylim(0, 500)\n",
    "plt.title('注册用户数', color =mainColor, fontproperties = labelFont)\n",
    "plt.xlabel('注册日期', color =mainColor, fontproperties = labelFont)\n",
    "plt.title('注册用户数', color =mainColor, fontproperties = labelFont)\n",
    "\n",
    "# 坐标轴的刻度样式\n",
    "plt.xticks(color=mainColor, fontproperties = font)\n",
    "plt.yticks(color=mainColor, fontproperties = font)\n",
    "\n",
    "# 绘制折线图\n",
    "plt.plot(ga['注册日期'], ga['注册用户数'], '-', lw = 3, color = mainColor)"
   ]
  },
  {
   "cell_type": "code",
   "execution_count": 46,
   "id": "ad51aaad",
   "metadata": {},
   "outputs": [
    {
     "data": {
      "text/plain": [
       "gender\n",
       "女    0.073028\n",
       "男    0.926972\n",
       "Name: id, dtype: float64"
      ]
     },
     "execution_count": 46,
     "metadata": {},
     "output_type": "execute_result"
    }
   ],
   "source": [
    "import pandas\n",
    "data = pandas.read_csv(\n",
    "    '/Users/xiefei/Documents/Workspace/CnLearnPython/PDABook/第五章/5.4 结构分析/结构分析.csv',\n",
    "    engine = 'python', encoding = 'utf8'\n",
    ")\n",
    "ga = data.groupby(\n",
    "    by = ['gender']\n",
    ")['id'].agg('count')\n",
    "ga = ga/ga.sum()\n",
    "ga"
   ]
  },
  {
   "cell_type": "code",
   "execution_count": 47,
   "id": "967ca288",
   "metadata": {},
   "outputs": [
    {
     "data": {
      "text/plain": [
       "([<matplotlib.patches.Wedge at 0x122151b10>,\n",
       "  <matplotlib.patches.Wedge at 0x1221519d0>],\n",
       " [Text(1.0711776165680964, 0.2501569782426474, '女'),\n",
       "  Text(-1.071177634134134, -0.25015690302448157, '男')],\n",
       " [Text(0.5842786999462344, 0.1364492608596258, '7.3%'),\n",
       "  Text(-0.5842787095277093, -0.13644921983153538, '92.7%')])"
      ]
     },
     "execution_count": 47,
     "metadata": {},
     "output_type": "execute_result"
    },
    {
     "data": {
      "image/png": "[encoded data removed]",
      "text/plain": [
       "<Figure size 432x288 with 1 Axes>"
      ]
     },
     "metadata": {},
     "output_type": "display_data"
    }
   ],
   "source": [
    "import matplotlib\n",
    "from matplotlib import pyplot as plt\n",
    "\n",
    "femaleColor = (91/255, 155/255, 213/255, 0.5)\n",
    "mainColor = (91/255, 155/255, 213/255, 1)\n",
    "font = matplotlib.font_manager.FontProperties(\n",
    "    fname = '/Users/xiefei/Documents/Workspace/CnLearnPython/PDABook/SourceHanSansCN-Light.otf',\n",
    "    size = 10\n",
    ")\n",
    "\n",
    "# 等长饼图\n",
    "plt.axis('equal')\n",
    "plt.pie(\n",
    "    ga,\n",
    "    labels = ['女', '男'],\n",
    "    colors = [femaleColor, mainColor],\n",
    "    autopct = '%.1f%%',\n",
    "    textprops = {'fontproperties': font}\n",
    ")"
   ]
  },
  {
   "cell_type": "code",
   "execution_count": 49,
   "id": "1e77cc5c",
   "metadata": {},
   "outputs": [
    {
     "data": {
      "text/html": [
       "<div>\n",
       "<style scoped>\n",
       "    .dataframe tbody tr th:only-of-type {\n",
       "        vertical-align: middle;\n",
       "    }\n",
       "\n",
       "    .dataframe tbody tr th {\n",
       "        vertical-align: top;\n",
       "    }\n",
       "\n",
       "    .dataframe thead th {\n",
       "        text-align: right;\n",
       "    }\n",
       "</style>\n",
       "<table border=\"1\" class=\"dataframe\">\n",
       "  <thead>\n",
       "    <tr style=\"text-align: right;\">\n",
       "      <th></th>\n",
       "      <th>号码</th>\n",
       "      <th>省份</th>\n",
       "      <th>手机品牌</th>\n",
       "      <th>通信品牌</th>\n",
       "      <th>手机操作系统</th>\n",
       "      <th>月消费（元）</th>\n",
       "      <th>月流量（MB）</th>\n",
       "    </tr>\n",
       "  </thead>\n",
       "  <tbody>\n",
       "    <tr>\n",
       "      <th>0</th>\n",
       "      <td>166547114238</td>\n",
       "      <td>河北</td>\n",
       "      <td>HTC</td>\n",
       "      <td>神州行</td>\n",
       "      <td>Android</td>\n",
       "      <td>298.9</td>\n",
       "      <td>318.6</td>\n",
       "    </tr>\n",
       "    <tr>\n",
       "      <th>1</th>\n",
       "      <td>166423353436</td>\n",
       "      <td>河南</td>\n",
       "      <td>HTC</td>\n",
       "      <td>神州行</td>\n",
       "      <td>Android</td>\n",
       "      <td>272.8</td>\n",
       "      <td>1385.9</td>\n",
       "    </tr>\n",
       "    <tr>\n",
       "      <th>2</th>\n",
       "      <td>166556915853</td>\n",
       "      <td>福建</td>\n",
       "      <td>HTC</td>\n",
       "      <td>神州行</td>\n",
       "      <td>Android</td>\n",
       "      <td>68.8</td>\n",
       "      <td>443.6</td>\n",
       "    </tr>\n",
       "    <tr>\n",
       "      <th>3</th>\n",
       "      <td>166434728749</td>\n",
       "      <td>湖南</td>\n",
       "      <td>HTC</td>\n",
       "      <td>神州行</td>\n",
       "      <td>Android</td>\n",
       "      <td>4.6</td>\n",
       "      <td>817.3</td>\n",
       "    </tr>\n",
       "    <tr>\n",
       "      <th>4</th>\n",
       "      <td>166544742252</td>\n",
       "      <td>北京</td>\n",
       "      <td>HTC</td>\n",
       "      <td>神州行</td>\n",
       "      <td>Android</td>\n",
       "      <td>113.2</td>\n",
       "      <td>837.4</td>\n",
       "    </tr>\n",
       "    <tr>\n",
       "      <th>...</th>\n",
       "      <td>...</td>\n",
       "      <td>...</td>\n",
       "      <td>...</td>\n",
       "      <td>...</td>\n",
       "      <td>...</td>\n",
       "      <td>...</td>\n",
       "      <td>...</td>\n",
       "    </tr>\n",
       "    <tr>\n",
       "      <th>31397</th>\n",
       "      <td>166538824411</td>\n",
       "      <td>澳门</td>\n",
       "      <td>HTC</td>\n",
       "      <td>神州行</td>\n",
       "      <td>Android</td>\n",
       "      <td>158.9</td>\n",
       "      <td>1082.4</td>\n",
       "    </tr>\n",
       "    <tr>\n",
       "      <th>31398</th>\n",
       "      <td>166099910587</td>\n",
       "      <td>贵州</td>\n",
       "      <td>HTC</td>\n",
       "      <td>神州行</td>\n",
       "      <td>Android</td>\n",
       "      <td>256.1</td>\n",
       "      <td>1515.1</td>\n",
       "    </tr>\n",
       "    <tr>\n",
       "      <th>31399</th>\n",
       "      <td>166794976891</td>\n",
       "      <td>台湾</td>\n",
       "      <td>HTC</td>\n",
       "      <td>神州行</td>\n",
       "      <td>Android</td>\n",
       "      <td>156.0</td>\n",
       "      <td>831.5</td>\n",
       "    </tr>\n",
       "    <tr>\n",
       "      <th>31400</th>\n",
       "      <td>166712755465</td>\n",
       "      <td>山西</td>\n",
       "      <td>HTC</td>\n",
       "      <td>神州行</td>\n",
       "      <td>Android</td>\n",
       "      <td>57.4</td>\n",
       "      <td>399.1</td>\n",
       "    </tr>\n",
       "    <tr>\n",
       "      <th>31401</th>\n",
       "      <td>166817901011</td>\n",
       "      <td>甘肃</td>\n",
       "      <td>HTC</td>\n",
       "      <td>神州行</td>\n",
       "      <td>Android</td>\n",
       "      <td>99.9</td>\n",
       "      <td>1815.5</td>\n",
       "    </tr>\n",
       "  </tbody>\n",
       "</table>\n",
       "<p>31402 rows × 7 columns</p>\n",
       "</div>"
      ],
      "text/plain": [
       "                 号码  省份 手机品牌 通信品牌   手机操作系统  月消费（元）  月流量（MB）\n",
       "0      166547114238  河北  HTC  神州行  Android   298.9    318.6\n",
       "1      166423353436  河南  HTC  神州行  Android   272.8   1385.9\n",
       "2      166556915853  福建  HTC  神州行  Android    68.8    443.6\n",
       "3      166434728749  湖南  HTC  神州行  Android     4.6    817.3\n",
       "4      166544742252  北京  HTC  神州行  Android   113.2    837.4\n",
       "...             ...  ..  ...  ...      ...     ...      ...\n",
       "31397  166538824411  澳门  HTC  神州行  Android   158.9   1082.4\n",
       "31398  166099910587  贵州  HTC  神州行  Android   256.1   1515.1\n",
       "31399  166794976891  台湾  HTC  神州行  Android   156.0    831.5\n",
       "31400  166712755465  山西  HTC  神州行  Android    57.4    399.1\n",
       "31401  166817901011  甘肃  HTC  神州行  Android    99.9   1815.5\n",
       "\n",
       "[31402 rows x 7 columns]"
      ]
     },
     "execution_count": 49,
     "metadata": {},
     "output_type": "execute_result"
    }
   ],
   "source": [
    "import pandas\n",
    "data = pandas.read_csv(\n",
    "    '/Users/xiefei/Documents/Workspace/CnLearnPython/PDABook/第六章/6.6 柱形图/柱形图.csv',\n",
    "    engine = 'python', encoding = 'utf8'\n",
    ")\n",
    "data"
   ]
  },
  {
   "cell_type": "code",
   "execution_count": 50,
   "id": "2cb66b95",
   "metadata": {},
   "outputs": [
    {
     "data": {
      "text/html": [
       "<div>\n",
       "<style scoped>\n",
       "    .dataframe tbody tr th:only-of-type {\n",
       "        vertical-align: middle;\n",
       "    }\n",
       "\n",
       "    .dataframe tbody tr th {\n",
       "        vertical-align: top;\n",
       "    }\n",
       "\n",
       "    .dataframe thead th {\n",
       "        text-align: right;\n",
       "    }\n",
       "</style>\n",
       "<table border=\"1\" class=\"dataframe\">\n",
       "  <thead>\n",
       "    <tr style=\"text-align: right;\">\n",
       "      <th></th>\n",
       "      <th>手机品牌</th>\n",
       "      <th>月消费（元）</th>\n",
       "    </tr>\n",
       "  </thead>\n",
       "  <tbody>\n",
       "    <tr>\n",
       "      <th>0</th>\n",
       "      <td>HTC</td>\n",
       "      <td>458171.6</td>\n",
       "    </tr>\n",
       "    <tr>\n",
       "      <th>1</th>\n",
       "      <td>三星</td>\n",
       "      <td>1009290.8</td>\n",
       "    </tr>\n",
       "    <tr>\n",
       "      <th>2</th>\n",
       "      <td>华为</td>\n",
       "      <td>25696.0</td>\n",
       "    </tr>\n",
       "    <tr>\n",
       "      <th>3</th>\n",
       "      <td>摩托罗拉</td>\n",
       "      <td>117623.1</td>\n",
       "    </tr>\n",
       "    <tr>\n",
       "      <th>4</th>\n",
       "      <td>联想</td>\n",
       "      <td>89443.7</td>\n",
       "    </tr>\n",
       "    <tr>\n",
       "      <th>5</th>\n",
       "      <td>苹果</td>\n",
       "      <td>123259.3</td>\n",
       "    </tr>\n",
       "    <tr>\n",
       "      <th>6</th>\n",
       "      <td>诺基亚</td>\n",
       "      <td>2840362.9</td>\n",
       "    </tr>\n",
       "    <tr>\n",
       "      <th>7</th>\n",
       "      <td>金立</td>\n",
       "      <td>28350.4</td>\n",
       "    </tr>\n",
       "  </tbody>\n",
       "</table>\n",
       "</div>"
      ],
      "text/plain": [
       "   手机品牌     月消费（元）\n",
       "0   HTC   458171.6\n",
       "1    三星  1009290.8\n",
       "2    华为    25696.0\n",
       "3  摩托罗拉   117623.1\n",
       "4    联想    89443.7\n",
       "5    苹果   123259.3\n",
       "6   诺基亚  2840362.9\n",
       "7    金立    28350.4"
      ]
     },
     "execution_count": 50,
     "metadata": {},
     "output_type": "execute_result"
    }
   ],
   "source": [
    "result = data.groupby(\n",
    "    by = ['手机品牌'],\n",
    "    as_index = False\n",
    ")['月消费（元）'].sum()\n",
    "result"
   ]
  },
  {
   "cell_type": "code",
   "execution_count": 54,
   "id": "19014762",
   "metadata": {},
   "outputs": [
    {
     "data": {
      "text/plain": [
       "([<matplotlib.axis.XTick at 0x1224ec3d0>,\n",
       "  <matplotlib.axis.XTick at 0x1224ecc90>,\n",
       "  <matplotlib.axis.XTick at 0x1224d1550>,\n",
       "  <matplotlib.axis.XTick at 0x1224ee450>,\n",
       "  <matplotlib.axis.XTick at 0x1224f8b50>,\n",
       "  <matplotlib.axis.XTick at 0x1224fa9d0>,\n",
       "  <matplotlib.axis.XTick at 0x1224fcdd0>,\n",
       "  <matplotlib.axis.XTick at 0x1224fcb10>],\n",
       " [Text(1, 0, 'HTC'),\n",
       "  Text(2, 0, '三星'),\n",
       "  Text(3, 0, '华为'),\n",
       "  Text(4, 0, '摩托罗拉'),\n",
       "  Text(5, 0, '联想'),\n",
       "  Text(6, 0, '苹果'),\n",
       "  Text(7, 0, '诺基亚'),\n",
       "  Text(8, 0, '金立')])"
      ]
     },
     "execution_count": 54,
     "metadata": {},
     "output_type": "execute_result"
    },
    {
     "data": {
      "image/png": "[encoded data removed]",
      "text/plain": [
       "<Figure size 432x288 with 1 Axes>"
      ]
     },
     "metadata": {
      "needs_background": "light"
     },
     "output_type": "display_data"
    }
   ],
   "source": [
    "import matplotlib\n",
    "from matplotlib import pyplot as plt\n",
    "\n",
    "plt.figure()\n",
    "sgb = result.sort_values(\n",
    "    by = '月消费（元）',\n",
    "    ascending = False\n",
    ")\n",
    "index = [1, 2, 3, 4, 5, 6, 7, 8]\n",
    "plt.bar(\n",
    "    index, \n",
    "    sgb['月消费（元）'],\n",
    "    color = mainColor\n",
    ")\n",
    "\n",
    "plt.xticks(index, result.手机品牌, fontproperties=font)"
   ]
  },
  {
   "cell_type": "code",
   "execution_count": 55,
   "id": "ace973ef",
   "metadata": {},
   "outputs": [
    {
     "data": {
      "text/plain": [
       "([<matplotlib.axis.YTick at 0x122509bd0>,\n",
       "  <matplotlib.axis.YTick at 0x121cf1090>,\n",
       "  <matplotlib.axis.YTick at 0x121cd2c50>,\n",
       "  <matplotlib.axis.YTick at 0x1223edc10>,\n",
       "  <matplotlib.axis.YTick at 0x1223ef410>,\n",
       "  <matplotlib.axis.YTick at 0x12250db10>,\n",
       "  <matplotlib.axis.YTick at 0x1223ef7d0>,\n",
       "  <matplotlib.axis.YTick at 0x1223f1290>],\n",
       " [Text(0, 1, '华为'),\n",
       "  Text(0, 2, '金立'),\n",
       "  Text(0, 3, '联想'),\n",
       "  Text(0, 4, '摩托罗拉'),\n",
       "  Text(0, 5, '苹果'),\n",
       "  Text(0, 6, 'HTC'),\n",
       "  Text(0, 7, '三星'),\n",
       "  Text(0, 8, '诺基亚')])"
      ]
     },
     "execution_count": 55,
     "metadata": {},
     "output_type": "execute_result"
    },
    {
     "data": {
      "image/png": "[encoded data removed]",
      "text/plain": [
       "<Figure size 432x288 with 1 Axes>"
      ]
     },
     "metadata": {
      "needs_background": "light"
     },
     "output_type": "display_data"
    }
   ],
   "source": [
    "sgb = result.sort_values(\n",
    "    by = '月消费（元）',\n",
    "    ascending = True\n",
    ")\n",
    "plt.barh(\n",
    "    index,\n",
    "    sgb['月消费（元）'],\n",
    "    color = mainColor\n",
    ")\n",
    "plt.yticks(index, sgb.手机品牌, fontproperties=font)"
   ]
  },
  {
   "cell_type": "code",
   "execution_count": null,
   "id": "e609df39",
   "metadata": {},
   "outputs": [],
   "source": []
  }
 ],
 "metadata": {
  "kernelspec": {
   "display_name": "Python 3 (ipykernel)",
   "language": "python",
   "name": "python3"
  },
  "language_info": {
   "codemirror_mode": {
    "name": "ipython",
    "version": 3
   },
   "file_extension": ".py",
   "mimetype": "text/x-python",
   "name": "python",
   "nbconvert_exporter": "python",
   "pygments_lexer": "ipython3",
   "version": "3.7.4"
  }
 },
 "nbformat": 4,
 "nbformat_minor": 5
}
